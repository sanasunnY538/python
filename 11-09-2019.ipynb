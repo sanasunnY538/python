{
 "cells": [
  {
   "cell_type": "markdown",
   "metadata": {},
   "source": [
    "# 21. Reversing a number\n",
    "# 22. Finding Given Number is Special Number or not\n",
    "# 23. Special Numbers within Range\n",
    "# 24. Perfect Number or Not a perfect\n",
    "# 25. Perfect Numbers within Range\n",
    "# 26. Prime Numbers within Range"
   ]
  },
  {
   "cell_type": "markdown",
   "metadata": {},
   "source": [
    "## => Reversing a number"
   ]
  },
  {
   "cell_type": "code",
   "execution_count": 2,
   "metadata": {},
   "outputs": [
    {
     "name": "stdout",
     "output_type": "stream",
     "text": [
      "Enter a number1234\n",
      "4321\n",
      "4321\n"
     ]
    },
    {
     "data": {
      "text/plain": [
       "int"
      ]
     },
     "execution_count": 2,
     "metadata": {},
     "output_type": "execute_result"
    },
    {
     "data": {
      "text/plain": [
       "int"
      ]
     },
     "execution_count": 2,
     "metadata": {},
     "output_type": "execute_result"
    }
   ],
   "source": [
    "n=input(\"Enter a number\")\n",
    "t=int(n[::-1])\n",
    "print(t)\n",
    "type(t)"
   ]
  },
  {
   "cell_type": "markdown",
   "metadata": {},
   "source": [
    "## => Finding given number is Special Number or not"
   ]
  },
  {
   "cell_type": "code",
   "execution_count": 25,
   "metadata": {},
   "outputs": [
    {
     "name": "stdout",
     "output_type": "stream",
     "text": [
      "Enter a number1225\n",
      "1225  is not a special number\n",
      "1225  is not a special number\n"
     ]
    }
   ],
   "source": [
    "n=int(input(\"Enter a number\"))\n",
    "if(n>9):\n",
    "    t=n%10\n",
    "    t2=int(n/10)\n",
    "    s=t+t2\n",
    "    p=t*t2\n",
    "    r=s+p\n",
    "    if n==r:\n",
    "        print(n,\" is a special number\") \n",
    "    else: \n",
    "        print(n,\" is not a special number\")"
   ]
  },
  {
   "cell_type": "code",
   "execution_count": 12,
   "metadata": {},
   "outputs": [
    {
     "data": {
      "text/plain": [
       "['__abs__',\n",
       " '__add__',\n",
       " '__and__',\n",
       " '__bool__',\n",
       " '__ceil__',\n",
       " '__class__',\n",
       " '__delattr__',\n",
       " '__dir__',\n",
       " '__divmod__',\n",
       " '__doc__',\n",
       " '__eq__',\n",
       " '__float__',\n",
       " '__floor__',\n",
       " '__floordiv__',\n",
       " '__format__',\n",
       " '__ge__',\n",
       " '__getattribute__',\n",
       " '__getnewargs__',\n",
       " '__gt__',\n",
       " '__hash__',\n",
       " '__index__',\n",
       " '__init__',\n",
       " '__init_subclass__',\n",
       " '__int__',\n",
       " '__invert__',\n",
       " '__le__',\n",
       " '__lshift__',\n",
       " '__lt__',\n",
       " '__mod__',\n",
       " '__mul__',\n",
       " '__ne__',\n",
       " '__neg__',\n",
       " '__new__',\n",
       " '__or__',\n",
       " '__pos__',\n",
       " '__pow__',\n",
       " '__radd__',\n",
       " '__rand__',\n",
       " '__rdivmod__',\n",
       " '__reduce__',\n",
       " '__reduce_ex__',\n",
       " '__repr__',\n",
       " '__rfloordiv__',\n",
       " '__rlshift__',\n",
       " '__rmod__',\n",
       " '__rmul__',\n",
       " '__ror__',\n",
       " '__round__',\n",
       " '__rpow__',\n",
       " '__rrshift__',\n",
       " '__rshift__',\n",
       " '__rsub__',\n",
       " '__rtruediv__',\n",
       " '__rxor__',\n",
       " '__setattr__',\n",
       " '__sizeof__',\n",
       " '__str__',\n",
       " '__sub__',\n",
       " '__subclasshook__',\n",
       " '__truediv__',\n",
       " '__trunc__',\n",
       " '__xor__',\n",
       " 'bit_length',\n",
       " 'conjugate',\n",
       " 'denominator',\n",
       " 'from_bytes',\n",
       " 'imag',\n",
       " 'numerator',\n",
       " 'real',\n",
       " 'to_bytes']"
      ]
     },
     "execution_count": 12,
     "metadata": {},
     "output_type": "execute_result"
    },
    {
     "data": {
      "text/plain": [
       "['__abs__',\n",
       " '__add__',\n",
       " '__and__',\n",
       " '__bool__',\n",
       " '__ceil__',\n",
       " '__class__',\n",
       " '__delattr__',\n",
       " '__dir__',\n",
       " '__divmod__',\n",
       " '__doc__',\n",
       " '__eq__',\n",
       " '__float__',\n",
       " '__floor__',\n",
       " '__floordiv__',\n",
       " '__format__',\n",
       " '__ge__',\n",
       " '__getattribute__',\n",
       " '__getnewargs__',\n",
       " '__gt__',\n",
       " '__hash__',\n",
       " '__index__',\n",
       " '__init__',\n",
       " '__init_subclass__',\n",
       " '__int__',\n",
       " '__invert__',\n",
       " '__le__',\n",
       " '__lshift__',\n",
       " '__lt__',\n",
       " '__mod__',\n",
       " '__mul__',\n",
       " '__ne__',\n",
       " '__neg__',\n",
       " '__new__',\n",
       " '__or__',\n",
       " '__pos__',\n",
       " '__pow__',\n",
       " '__radd__',\n",
       " '__rand__',\n",
       " '__rdivmod__',\n",
       " '__reduce__',\n",
       " '__reduce_ex__',\n",
       " '__repr__',\n",
       " '__rfloordiv__',\n",
       " '__rlshift__',\n",
       " '__rmod__',\n",
       " '__rmul__',\n",
       " '__ror__',\n",
       " '__round__',\n",
       " '__rpow__',\n",
       " '__rrshift__',\n",
       " '__rshift__',\n",
       " '__rsub__',\n",
       " '__rtruediv__',\n",
       " '__rxor__',\n",
       " '__setattr__',\n",
       " '__sizeof__',\n",
       " '__str__',\n",
       " '__sub__',\n",
       " '__subclasshook__',\n",
       " '__truediv__',\n",
       " '__trunc__',\n",
       " '__xor__',\n",
       " 'bit_length',\n",
       " 'conjugate',\n",
       " 'denominator',\n",
       " 'from_bytes',\n",
       " 'imag',\n",
       " 'numerator',\n",
       " 'real',\n",
       " 'to_bytes']"
      ]
     },
     "execution_count": 12,
     "metadata": {},
     "output_type": "execute_result"
    }
   ],
   "source": [
    "dir(int)"
   ]
  },
  {
   "cell_type": "markdown",
   "metadata": {},
   "source": [
    "## => Special numbers within range"
   ]
  },
  {
   "cell_type": "code",
   "execution_count": 30,
   "metadata": {},
   "outputs": [
    {
     "name": "stdout",
     "output_type": "stream",
     "text": [
      "Enter a minimum range1\n",
      "Enter maximum range50\n",
      "10  is not a special number\n",
      "11  is not a special number\n",
      "12  is not a special number\n",
      "13  is not a special number\n",
      "14  is not a special number\n",
      "15  is not a special number\n",
      "16  is not a special number\n",
      "17  is not a special number\n",
      "18  is not a special number\n",
      "19  is a special number\n",
      "20  is not a special number\n",
      "21  is not a special number\n",
      "22  is not a special number\n",
      "23  is not a special number\n",
      "24  is not a special number\n",
      "25  is not a special number\n",
      "26  is not a special number\n",
      "27  is not a special number\n",
      "28  is not a special number\n",
      "29  is a special number\n",
      "30  is not a special number\n",
      "31  is not a special number\n",
      "32  is not a special number\n",
      "33  is not a special number\n",
      "34  is not a special number\n",
      "35  is not a special number\n",
      "36  is not a special number\n",
      "37  is not a special number\n",
      "38  is not a special number\n",
      "39  is a special number\n",
      "40  is not a special number\n",
      "41  is not a special number\n",
      "42  is not a special number\n",
      "43  is not a special number\n",
      "44  is not a special number\n",
      "45  is not a special number\n",
      "46  is not a special number\n",
      "47  is not a special number\n",
      "48  is not a special number\n",
      "49  is a special number\n",
      "10  is not a special number\n",
      "11  is not a special number\n",
      "12  is not a special number\n",
      "13  is not a special number\n",
      "14  is not a special number\n",
      "15  is not a special number\n",
      "16  is not a special number\n",
      "17  is not a special number\n",
      "18  is not a special number\n",
      "19  is a special number\n",
      "20  is not a special number\n",
      "21  is not a special number\n",
      "22  is not a special number\n",
      "23  is not a special number\n",
      "24  is not a special number\n",
      "25  is not a special number\n",
      "26  is not a special number\n",
      "27  is not a special number\n",
      "28  is not a special number\n",
      "29  is a special number\n",
      "30  is not a special number\n",
      "31  is not a special number\n",
      "32  is not a special number\n",
      "33  is not a special number\n",
      "34  is not a special number\n",
      "35  is not a special number\n",
      "36  is not a special number\n",
      "37  is not a special number\n",
      "38  is not a special number\n",
      "39  is a special number\n",
      "40  is not a special number\n",
      "41  is not a special number\n",
      "42  is not a special number\n",
      "43  is not a special number\n",
      "44  is not a special number\n",
      "45  is not a special number\n",
      "46  is not a special number\n",
      "47  is not a special number\n",
      "48  is not a special number\n",
      "49  is a special number\n"
     ]
    }
   ],
   "source": [
    "m=int(input(\"Enter a minimum range\"))\n",
    "n=int(input(\"Enter maximum range\"))\n",
    "for i in range(m,n):\n",
    "    if i>9:\n",
    "        t=i%10\n",
    "        t2=int(i/10)\n",
    "        s=t+t2\n",
    "        p=t*t2\n",
    "        r=s+p\n",
    "        if i==r:\n",
    "            print(i,\" is a special number\") \n",
    "        else:\n",
    "            print(i,\" is not a special number\")\n",
    "        \n",
    "    \n",
    "    "
   ]
  },
  {
   "cell_type": "markdown",
   "metadata": {},
   "source": [
    "## => Perfect Number or not"
   ]
  },
  {
   "cell_type": "code",
   "execution_count": 12,
   "metadata": {},
   "outputs": [
    {
     "name": "stdout",
     "output_type": "stream",
     "text": [
      "Enter a number10\n",
      "10  is not a perfect number\n",
      "10  is not a perfect number\n"
     ]
    }
   ],
   "source": [
    "n=int(input(\"Enter a number\"))\n",
    "s=0\n",
    "for i in range(1,n):\n",
    "    if n%i==0:\n",
    "        s=s+i\n",
    "if s==n:\n",
    "    print(n,\" is a perfect number\")\n",
    "else:\n",
    "    print(n,\" is not a perfect number\")"
   ]
  },
  {
   "cell_type": "markdown",
   "metadata": {},
   "source": [
    "## => Perfect numbers within range"
   ]
  },
  {
   "cell_type": "code",
   "execution_count": 1,
   "metadata": {},
   "outputs": [
    {
     "name": "stdout",
     "output_type": "stream",
     "text": [
      "Enter min.number1\n",
      "Enter max. number100\n",
      "6\n",
      "28\n"
     ]
    }
   ],
   "source": [
    "m=int(input(\"Enter min.number\"))\n",
    "n=int(input(\"Enter max. number\"))\n",
    "s=0\n",
    "def findfactor(t,s):\n",
    "    for i in range(1,t):\n",
    "        if t%i==0:\n",
    "            s=s+i\n",
    "    if s==t:\n",
    "        print(t)\n",
    "for j in range(m,n+1):\n",
    "    findfactor(j,s)"
   ]
  },
  {
   "cell_type": "markdown",
   "metadata": {},
   "source": [
    "## => Prime Numbers Within Range"
   ]
  },
  {
   "cell_type": "code",
   "execution_count": 25,
   "metadata": {},
   "outputs": [
    {
     "name": "stdout",
     "output_type": "stream",
     "text": [
      "Enter min.number1\n",
      "Enter max. number10\n",
      "2\n",
      "3\n",
      "5\n",
      "7\n",
      "2\n",
      "3\n",
      "5\n",
      "7\n"
     ]
    }
   ],
   "source": [
    "m=int(input(\"Enter min.number\"))\n",
    "n=int(input(\"Enter max. number\"))\n",
    "s=0\n",
    "def prime(t,s):\n",
    "    for i in range(1,t+1):\n",
    "        if t%i==0:\n",
    "            s=s+1\n",
    "    if s==2:\n",
    "        print(t)\n",
    "for j in range(m,n+1):\n",
    "    prime(j,s)"
   ]
  },
  {
   "cell_type": "code",
   "execution_count": null,
   "metadata": {},
   "outputs": [],
   "source": []
  }
 ],
 "metadata": {
  "kernelspec": {
   "display_name": "Python 3",
   "language": "python",
   "name": "python3"
  },
  "language_info": {
   "codemirror_mode": {
    "name": "ipython",
    "version": 3
   },
   "file_extension": ".py",
   "mimetype": "text/x-python",
   "name": "python",
   "nbconvert_exporter": "python",
   "pygments_lexer": "ipython3",
   "version": "3.7.3"
  }
 },
 "nbformat": 4,
 "nbformat_minor": 2
}
