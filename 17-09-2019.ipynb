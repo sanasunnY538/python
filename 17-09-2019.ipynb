{
 "cells": [
  {
   "cell_type": "markdown",
   "metadata": {},
   "source": [
    "# 33. Lift problem,\n",
    "# 34. Same strings Matching,"
   ]
  },
  {
   "cell_type": "markdown",
   "metadata": {},
   "source": [
    "## => Lift problem"
   ]
  },
  {
   "cell_type": "code",
   "execution_count": 26,
   "metadata": {},
   "outputs": [
    {
     "name": "stdout",
     "output_type": "stream",
     "text": [
      "Enter test cases1\n",
      "enter the floor no.3\n",
      "A\n"
     ]
    }
   ],
   "source": [
    "t=int(input(\"Enter test cases\"))\n",
    "a=0\n",
    "b=7\n",
    "i=1\n",
    "for i in range(t):\n",
    "    n=int(input(\"enter the floor no.\"))\n",
    "    a1=abs(a-n)\n",
    "    b1=abs(b-n)\n",
    "    if a1<=b1:\n",
    "        print(\"A\")\n",
    "        a=n\n",
    "    else:\n",
    "        print(\"B\")\n",
    "        b=n\n",
    "    "
   ]
  },
  {
   "cell_type": "markdown",
   "metadata": {},
   "source": [
    "## => Same Strings Matching"
   ]
  },
  {
   "cell_type": "code",
   "execution_count": 24,
   "metadata": {},
   "outputs": [
    {
     "name": "stdout",
     "output_type": "stream",
     "text": [
      "enter test cases2\n",
      "enter stringsumit mitsu\n",
      "yes, ['i', 'm', 's', 't', 'u'] is equal to ['i', 'm', 's', 't', 'u']\n",
      "enter stringabhi bbahi\n",
      "no, ['a', 'b', 'h', 'i'] is not equal to ['a', 'b', 'b', 'h', 'i']\n"
     ]
    }
   ],
   "source": [
    "t=int(input(\"enter test cases\"))\n",
    "i=0\n",
    "for i in range(t):\n",
    "    s=input(\"enter string\")\n",
    "    m=s.split()\n",
    "    a=sorted(m[0])\n",
    "    b=sorted(m[1])\n",
    "    if a==b:\n",
    "        print(\"yes,\",a,\"is equal to\",b)\n",
    "    else:\n",
    "        print(\"no,\",a,\"is not equal to\",b)"
   ]
  },
  {
   "cell_type": "markdown",
   "metadata": {},
   "source": [
    "dir(str)"
   ]
  },
  {
   "cell_type": "code",
   "execution_count": 15,
   "metadata": {},
   "outputs": [
    {
     "name": "stdout",
     "output_type": "stream",
     "text": [
      "sanavulla\n",
      "['s', 'a', 'n', 'a', 'v', 'u', 'l', 'l', 'a']\n",
      "None\n"
     ]
    }
   ],
   "source": [
    "a=input()\n",
    "s=list(a)\n",
    "print(s)\n",
    "b=s.sort()\n",
    "print(b)"
   ]
  },
  {
   "cell_type": "code",
   "execution_count": null,
   "metadata": {},
   "outputs": [],
   "source": []
  }
 ],
 "metadata": {
  "kernelspec": {
   "display_name": "Python 3",
   "language": "python",
   "name": "python3"
  },
  "language_info": {
   "codemirror_mode": {
    "name": "ipython",
    "version": 3
   },
   "file_extension": ".py",
   "mimetype": "text/x-python",
   "name": "python",
   "nbconvert_exporter": "python",
   "pygments_lexer": "ipython3",
   "version": "3.7.3"
  }
 },
 "nbformat": 4,
 "nbformat_minor": 2
}
