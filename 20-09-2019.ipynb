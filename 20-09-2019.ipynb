{
 "cells": [
  {
   "cell_type": "markdown",
   "metadata": {},
   "source": [
    "# 40. Printing 1 for Matchsticks,\n",
    "# 41. Finding legal ISBN number or not,\n",
    "# 42. No. of lines count in file,\n",
    "# 43. Count of lines in files from python,\n",
    "# 44. Count of Words in a file,¶"
   ]
  },
  {
   "cell_type": "markdown",
   "metadata": {},
   "source": [
    "## => Printing 1 for Matchsticks"
   ]
  },
  {
   "cell_type": "code",
   "execution_count": 14,
   "metadata": {},
   "outputs": [
    {
     "name": "stdout",
     "output_type": "stream",
     "text": [
      "Enter a number 21\n",
      "7\n",
      "7111111\n"
     ]
    }
   ],
   "source": [
    "n=input(\"Enter a number \")\n",
    "d={0:6,1:2,2:5,3:5,4:4,5:5,6:6,7:3,8:7,9:6}\n",
    "t=0\n",
    "for i in n:\n",
    "    t=d[int(i)]+t\n",
    "print(t)\n",
    "if t%2==0:\n",
    "    print(\"no of segments are\",\"1\"*t)\n",
    "else:\n",
    "    print(\"7\"+\"1\"*(t-1))"
   ]
  },
  {
   "cell_type": "markdown",
   "metadata": {},
   "source": [
    "## => Printing matchsticks (if even 1..... , if odd 71....)"
   ]
  },
  {
   "cell_type": "code",
   "execution_count": 29,
   "metadata": {},
   "outputs": [
    {
     "name": "stdout",
     "output_type": "stream",
     "text": [
      "Enter a number 6\n",
      "6\n",
      "no of segments are 111\n"
     ]
    }
   ],
   "source": [
    "n=input(\"Enter a number \")\n",
    "d={0:6,1:2,2:5,3:5,4:4,5:5,6:6,7:3,8:7,9:6}\n",
    "t=0\n",
    "for i in n:\n",
    "    t=d[int(i)]+t\n",
    "print(t)\n",
    "if t%2==0:\n",
    "    print(\"no of segments are\",\"1\"*(t//2))\n",
    "else:\n",
    "    a=int((t-1)/2)\n",
    "    print(\"7\"+\"1\"*(a))"
   ]
  },
  {
   "cell_type": "markdown",
   "metadata": {},
   "source": [
    "## => Legal ISBN number finding"
   ]
  },
  {
   "cell_type": "code",
   "execution_count": 7,
   "metadata": {},
   "outputs": [
    {
     "name": "stdout",
     "output_type": "stream",
     "text": [
      "Enter ISBN number0764526413\n",
      "0764526413  is legal ISBN Number\n"
     ]
    }
   ],
   "source": [
    "n=input(\"Enter ISBN number\")\n",
    "j=1\n",
    "c=0\n",
    "l=list(n)\n",
    "if len(n)==10:\n",
    "    for i in l:\n",
    "        c=c+(int(i)*j)\n",
    "        j=j+1\n",
    "else:\n",
    "    print(\"Invalid number\")\n",
    "if c%11==0:\n",
    "    print(n,\" is legal ISBN Number\")\n",
    "else:\n",
    "    print(\"Invalid number\")\n",
    "    \n"
   ]
  },
  {
   "cell_type": "code",
   "execution_count": 9,
   "metadata": {},
   "outputs": [
    {
     "name": "stdout",
     "output_type": "stream",
     "text": [
      "Enter ISBN number1234567890\n",
      "Invalid number\n"
     ]
    }
   ],
   "source": [
    "n=input(\"Enter ISBN number\")\n",
    "j=1\n",
    "c=0\n",
    "l=list(n)\n",
    "if len(n)==10:\n",
    "    for i in l:\n",
    "        a=int(i)*j\n",
    "        c=c+a\n",
    "        j=j+1\n",
    "else:\n",
    "    print(\"Invalid number\")\n",
    "if c%11==0:\n",
    "    print(n,\" is legal ISBN Number\")\n",
    "else:\n",
    "    print(\"Invalid number\")\n",
    "    \n"
   ]
  },
  {
   "cell_type": "markdown",
   "metadata": {},
   "source": [
    "## => No. of lines count in file"
   ]
  },
  {
   "cell_type": "code",
   "execution_count": 9,
   "metadata": {},
   "outputs": [],
   "source": [
    "filepath=\"./files concept/sample.txt\"\n",
    "with open(filepath,'w') as f:\n",
    "    f.write(\"it has worked.\\n\")\n",
    "    f.write(\"I am succeed.\\nI am sanavulla.\\nThis is me.\\nI had done.\")\n",
    "    "
   ]
  },
  {
   "cell_type": "markdown",
   "metadata": {},
   "source": [
    "## => Printing count of lines in files."
   ]
  },
  {
   "cell_type": "code",
   "execution_count": 26,
   "metadata": {},
   "outputs": [
    {
     "name": "stdout",
     "output_type": "stream",
     "text": [
      "5\n"
     ]
    }
   ],
   "source": [
    "filepath=\"./files concept/sample.txt\"\n",
    "with open(filepath,'r') as f:\n",
    "    f1=f.readlines()\n",
    "    c=len(f1)\n",
    "    print(c)"
   ]
  },
  {
   "cell_type": "markdown",
   "metadata": {},
   "source": [
    "## => Printing no.of letters(including space) Count in files."
   ]
  },
  {
   "cell_type": "code",
   "execution_count": 17,
   "metadata": {},
   "outputs": [
    {
     "name": "stdout",
     "output_type": "stream",
     "text": [
      "68\n"
     ]
    }
   ],
   "source": [
    "filepath=\"./files concept/sample.txt\"\n",
    "with open(filepath,'r') as f:\n",
    "    f1=f.read()\n",
    "    c=len(f1)\n",
    "    print(c)   "
   ]
  },
  {
   "cell_type": "markdown",
   "metadata": {},
   "source": [
    "## => Printing no.of words in file"
   ]
  },
  {
   "cell_type": "code",
   "execution_count": 14,
   "metadata": {},
   "outputs": [
    {
     "name": "stdout",
     "output_type": "stream",
     "text": [
      "['it', 'has', 'worked.', 'I', 'am', 'succeed.', 'I', 'am', 'sanavulla.', 'This', 'is', 'me.', 'I', 'had', 'done.']\n",
      "15 -->words are in file\n"
     ]
    }
   ],
   "source": [
    "filepath=\"./files concept/sample.txt\"\n",
    "with open(filepath,'r') as f:\n",
    "    f1=f.read()\n",
    "    c=str(f1)\n",
    "    a=c.split()\n",
    "    print(a)\n",
    "    co=len(a)\n",
    "    print(co,\"-->words are in file\")   "
   ]
  },
  {
   "cell_type": "code",
   "execution_count": 48,
   "metadata": {},
   "outputs": [
    {
     "name": "stdout",
     "output_type": "stream",
     "text": [
      "5 -->lines are present in file.\n",
      "15 -->words are in file.\n",
      "54 -->letters are present in file.\n"
     ]
    }
   ],
   "source": [
    "k=0\n",
    "filepath=\"./files concept/sample.txt\"\n",
    "with open(filepath,'r') as f:\n",
    "    f1=len(f.readlines())\n",
    "    print(f1,\"-->lines are present in file.\")\n",
    "with open(filepath,'r') as f:\n",
    "    f2=str(f.read())\n",
    "    a=f2.split()\n",
    "    c=len(a)\n",
    "    print(c,\"-->words are in file.\")\n",
    "for i in range(0,c):\n",
    "    k=k+len(a[i])\n",
    "print(k,\"-->letters are present in file.\")        "
   ]
  },
  {
   "cell_type": "code",
   "execution_count": null,
   "metadata": {},
   "outputs": [],
   "source": []
  }
 ],
 "metadata": {
  "kernelspec": {
   "display_name": "Python 3",
   "language": "python",
   "name": "python3"
  },
  "language_info": {
   "codemirror_mode": {
    "name": "ipython",
    "version": 3
   },
   "file_extension": ".py",
   "mimetype": "text/x-python",
   "name": "python",
   "nbconvert_exporter": "python",
   "pygments_lexer": "ipython3",
   "version": "3.7.3"
  }
 },
 "nbformat": 4,
 "nbformat_minor": 2
}
