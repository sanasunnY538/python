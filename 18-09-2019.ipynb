{
 "cells": [
  {
   "cell_type": "markdown",
   "metadata": {},
   "source": [
    "# 35. Matchsticks and numbers problem,\n",
    "# 36. Coordinates Problem,\n",
    "# 37. Files Concept,"
   ]
  },
  {
   "cell_type": "markdown",
   "metadata": {},
   "source": [
    "## => Matchsticks and numbers problem"
   ]
  },
  {
   "cell_type": "code",
   "execution_count": 18,
   "metadata": {},
   "outputs": [
    {
     "name": "stdout",
     "output_type": "stream",
     "text": [
      "59\n",
      "11\n"
     ]
    }
   ],
   "source": [
    "n=input()\n",
    "d={0:6,1:2,2:5,3:5,4:4,5:5,6:6,7:3,8:7,9:6}\n",
    "t=0\n",
    "for i in n:\n",
    "    t=d[int(i)]+t\n",
    "print(t)"
   ]
  },
  {
   "cell_type": "markdown",
   "metadata": {},
   "source": [
    "## => Coordinates locating problem"
   ]
  },
  {
   "cell_type": "code",
   "execution_count": 3,
   "metadata": {},
   "outputs": [
    {
     "name": "stdout",
     "output_type": "stream",
     "text": [
      "llluuuurd\n",
      "-2 3\n"
     ]
    }
   ],
   "source": [
    "n=input()\n",
    "l=-1\n",
    "r=1\n",
    "u=1\n",
    "d=-1\n",
    "x=0\n",
    "y=0\n",
    "for i in n:\n",
    "    if i==\"l\":\n",
    "        x=x+l\n",
    "    elif i==\"r\":\n",
    "        x=x+r\n",
    "    elif i==\"u\":\n",
    "        y=y+u\n",
    "    elif i==\"d\":\n",
    "        y=y+d\n",
    "print(x,y)"
   ]
  },
  {
   "cell_type": "code",
   "execution_count": 3,
   "metadata": {},
   "outputs": [
    {
     "name": "stdout",
     "output_type": "stream",
     "text": [
      "llluuuurd\n",
      "-2 3\n"
     ]
    }
   ],
   "source": [
    "n=input()\n",
    "c={\"l\":-1,\"r\":1,\"u\":1,\"d\":-1}\n",
    "x=0\n",
    "y=0\n",
    "for i in n:\n",
    "    if i==\"l\":\n",
    "        x=x+c[i]\n",
    "    elif i==\"r\":\n",
    "        x=x+c[i]\n",
    "    elif i==\"u\":\n",
    "        y=y+c[i]\n",
    "    elif i==\"d\":\n",
    "        y=y+c[i]\n",
    "print(x,y)"
   ]
  },
  {
   "cell_type": "markdown",
   "metadata": {},
   "source": [
    "## => Files Concepts"
   ]
  },
  {
   "cell_type": "code",
   "execution_count": 1,
   "metadata": {},
   "outputs": [],
   "source": [
    "filepath=\"./files concept/sample.txt\"\n",
    "with open(filepath,'w') as f:\n",
    "    f.write(\"it doesnot worked\")"
   ]
  },
  {
   "cell_type": "code",
   "execution_count": null,
   "metadata": {},
   "outputs": [],
   "source": []
  }
 ],
 "metadata": {
  "kernelspec": {
   "display_name": "Python 3",
   "language": "python",
   "name": "python3"
  },
  "language_info": {
   "codemirror_mode": {
    "name": "ipython",
    "version": 3
   },
   "file_extension": ".py",
   "mimetype": "text/x-python",
   "name": "python",
   "nbconvert_exporter": "python",
   "pygments_lexer": "ipython3",
   "version": "3.7.3"
  }
 },
 "nbformat": 4,
 "nbformat_minor": 2
}
