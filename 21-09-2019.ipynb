{
 "cells": [
  {
   "cell_type": "markdown",
   "metadata": {},
   "source": [
    "# 45. Count of Lines, Words, Characters in a file,"
   ]
  },
  {
   "cell_type": "markdown",
   "metadata": {},
   "source": [
    "## => Count of Lines, Words, Characters in a file,"
   ]
  },
  {
   "cell_type": "code",
   "execution_count": 2,
   "metadata": {},
   "outputs": [
    {
     "name": "stdout",
     "output_type": "stream",
     "text": [
      "5 -->lines are present in file.\n",
      "15 -->words are in file.\n",
      "54 -->letters are present in file.\n"
     ]
    }
   ],
   "source": [
    "k=0\n",
    "filepath=\"./files concept/sample.txt\"\n",
    "with open(filepath,'r') as f:\n",
    "    f1=len(f.readlines())\n",
    "    print(f1,\"-->lines are present in file.\")\n",
    "with open(filepath,'r') as f:\n",
    "    f2=str(f.read())\n",
    "    a=f2.split()\n",
    "    c=len(a)\n",
    "    print(c,\"-->words are in file.\")\n",
    "for i in range(0,c):\n",
    "    k=k+len(a[i])\n",
    "print(k,\"-->letters are present in file.\")        "
   ]
  },
  {
   "cell_type": "code",
   "execution_count": null,
   "metadata": {},
   "outputs": [],
   "source": []
  },
  {
   "cell_type": "code",
   "execution_count": null,
   "metadata": {},
   "outputs": [],
   "source": []
  }
 ],
 "metadata": {
  "kernelspec": {
   "display_name": "Python 3",
   "language": "python",
   "name": "python3"
  },
  "language_info": {
   "codemirror_mode": {
    "name": "ipython",
    "version": 3
   },
   "file_extension": ".py",
   "mimetype": "text/x-python",
   "name": "python",
   "nbconvert_exporter": "python",
   "pygments_lexer": "ipython3",
   "version": "3.7.3"
  }
 },
 "nbformat": 4,
 "nbformat_minor": 2
}
