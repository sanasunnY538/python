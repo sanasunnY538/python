{
 "cells": [
  {
   "cell_type": "markdown",
   "metadata": {},
   "source": [
    "# 27. Print all Numbers divisible by 6 and not by 100 in a range\n",
    "# 28. Averages of cubes of all even numbers in a range\n",
    "# 29. Printing 3 Toppers list"
   ]
  },
  {
   "cell_type": "markdown",
   "metadata": {},
   "source": [
    "## => Print all numbers divisible by 6 and not by 100 in range"
   ]
  },
  {
   "cell_type": "code",
   "execution_count": 4,
   "metadata": {},
   "outputs": [
    {
     "name": "stdout",
     "output_type": "stream",
     "text": [
      "Enter min. number 1\n",
      "Enter max. number 50\n",
      "6\n",
      "12\n",
      "18\n",
      "24\n",
      "30\n",
      "36\n",
      "42\n",
      "48\n"
     ]
    }
   ],
   "source": [
    "m=int(input(\"Enter min. number \"))\n",
    "n=int(input(\"Enter max. number \"))\n",
    "for i in range(m,n):\n",
    "     if (i%6==0):\n",
    "        if (100%i!=0):\n",
    "            print(i)"
   ]
  },
  {
   "cell_type": "markdown",
   "metadata": {},
   "source": [
    "## => Print Avenger of cubes of all even numbers in a range"
   ]
  },
  {
   "cell_type": "code",
   "execution_count": 14,
   "metadata": {},
   "outputs": [
    {
     "name": "stdout",
     "output_type": "stream",
     "text": [
      "Enter a min. number 2\n",
      "enter a max. number 4\n",
      "36\n"
     ]
    }
   ],
   "source": [
    "m=int(input(\"Enter a min. number \"))\n",
    "n=int(input(\"enter a max. number \"))\n",
    "s=0\n",
    "c=0\n",
    "def avg(a,b,c,s):\n",
    "    for i in range(m,n+1):\n",
    "        if i%2==0:\n",
    "            c=c+1\n",
    "            f=(i**3)\n",
    "            s=s+f\n",
    "    r=s//c\n",
    "    print(r)\n",
    "avg(m,n,c,s)"
   ]
  },
  {
   "cell_type": "code",
   "execution_count": 16,
   "metadata": {},
   "outputs": [
    {
     "name": "stdout",
     "output_type": "stream",
     "text": [
      "Enter a min. number 2\n",
      "enter a max. number 4\n",
      "36\n"
     ]
    }
   ],
   "source": [
    " m=int(input(\"Enter a min. number \"))\n",
    "n=int(input(\"enter a max. number \"))\n",
    "s=0\n",
    "c=0\n",
    "for i in range(m,n+1):\n",
    "        if i%2==0:\n",
    "            c=c+1\n",
    "            f=(i**3)\n",
    "            s=s+f\n",
    "r=s//c\n",
    "print(r)"
   ]
  },
  {
   "cell_type": "markdown",
   "metadata": {},
   "source": [
    "## => Printing  3 toppers list"
   ]
  },
  {
   "cell_type": "code",
   "execution_count": 7,
   "metadata": {},
   "outputs": [
    {
     "name": "stdout",
     "output_type": "stream",
     "text": [
      "f = 100  is the first topper\n",
      "c = 99  is the second topper\n",
      "e = 98  is the third topper\n"
     ]
    }
   ],
   "source": [
    "d={\"a\":95,\"c\":99,\"f\":100,\"d\":72,\"e\":98}\n",
    "m=d.values()\n",
    "n={}\n",
    "j={}\n",
    "ft=max(m)\n",
    "for i in d:\n",
    "    if d[i]>=ft:\n",
    "        print(i,\"=\",ft,\" is the first topper\")\n",
    "    if d[i]<ft:\n",
    "        n[i]=d[i]\n",
    "st=max(n.values())\n",
    "for i in n:\n",
    "    if n[i]>=st:\n",
    "        print(i,\"=\",st,\" is the second topper\")\n",
    "    if n[i]<st:\n",
    "        j[i]=n[i]\n",
    "tt=max(j.values())\n",
    "for i in j:\n",
    "    if j[i]>=tt:\n",
    "        print(i,\"=\",tt,\" is the third topper\")"
   ]
  },
  {
   "cell_type": "code",
   "execution_count": 1,
   "metadata": {},
   "outputs": [
    {
     "data": {
      "text/plain": [
       "['__class__',\n",
       " '__contains__',\n",
       " '__delattr__',\n",
       " '__delitem__',\n",
       " '__dir__',\n",
       " '__doc__',\n",
       " '__eq__',\n",
       " '__format__',\n",
       " '__ge__',\n",
       " '__getattribute__',\n",
       " '__getitem__',\n",
       " '__gt__',\n",
       " '__hash__',\n",
       " '__init__',\n",
       " '__init_subclass__',\n",
       " '__iter__',\n",
       " '__le__',\n",
       " '__len__',\n",
       " '__lt__',\n",
       " '__ne__',\n",
       " '__new__',\n",
       " '__reduce__',\n",
       " '__reduce_ex__',\n",
       " '__repr__',\n",
       " '__setattr__',\n",
       " '__setitem__',\n",
       " '__sizeof__',\n",
       " '__str__',\n",
       " '__subclasshook__',\n",
       " 'clear',\n",
       " 'copy',\n",
       " 'fromkeys',\n",
       " 'get',\n",
       " 'items',\n",
       " 'keys',\n",
       " 'pop',\n",
       " 'popitem',\n",
       " 'setdefault',\n",
       " 'update',\n",
       " 'values']"
      ]
     },
     "execution_count": 1,
     "metadata": {},
     "output_type": "execute_result"
    }
   ],
   "source": [
    "dir(dict)"
   ]
  },
  {
   "cell_type": "code",
   "execution_count": 5,
   "metadata": {},
   "outputs": [
    {
     "data": {
      "text/plain": [
       "{'g': 123, 'a': 7, 'c': 456}"
      ]
     },
     "execution_count": 5,
     "metadata": {},
     "output_type": "execute_result"
    }
   ],
   "source": [
    "k={\"g\":123,\"a\":7,\"c\":456}\n",
    "k"
   ]
  },
  {
   "cell_type": "code",
   "execution_count": 4,
   "metadata": {},
   "outputs": [
    {
     "ename": "AttributeError",
     "evalue": "'dict' object has no attribute 'sorted'",
     "output_type": "error",
     "traceback": [
      "\u001b[1;31m---------------------------------------------------------------------------\u001b[0m",
      "\u001b[1;31mAttributeError\u001b[0m                            Traceback (most recent call last)",
      "\u001b[1;32m<ipython-input-4-7be1f34bb019>\u001b[0m in \u001b[0;36m<module>\u001b[1;34m\u001b[0m\n\u001b[1;32m----> 1\u001b[1;33m \u001b[0mk\u001b[0m\u001b[1;33m.\u001b[0m\u001b[0msorted\u001b[0m\u001b[1;33m(\u001b[0m\u001b[1;33m)\u001b[0m\u001b[1;33m\u001b[0m\u001b[1;33m\u001b[0m\u001b[0m\n\u001b[0m\u001b[0;32m      2\u001b[0m \u001b[0mk\u001b[0m\u001b[1;33m\u001b[0m\u001b[1;33m\u001b[0m\u001b[0m\n",
      "\u001b[1;31mAttributeError\u001b[0m: 'dict' object has no attribute 'sorted'"
     ]
    }
   ],
   "source": [
    "k.sorted()\n",
    "k"
   ]
  },
  {
   "cell_type": "code",
   "execution_count": null,
   "metadata": {},
   "outputs": [],
   "source": []
  }
 ],
 "metadata": {
  "kernelspec": {
   "display_name": "Python 3",
   "language": "python",
   "name": "python3"
  },
  "language_info": {
   "codemirror_mode": {
    "name": "ipython",
    "version": 3
   },
   "file_extension": ".py",
   "mimetype": "text/x-python",
   "name": "python",
   "nbconvert_exporter": "python",
   "pygments_lexer": "ipython3",
   "version": "3.7.3"
  }
 },
 "nbformat": 4,
 "nbformat_minor": 2
}
