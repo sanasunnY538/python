{
 "cells": [
  {
   "cell_type": "markdown",
   "metadata": {},
   "source": [
    "# 38. Files Concept,\n",
    "# 39. Filtering the list (Printing list without repeated characters),\n",
    "# 40. Printing count of divisibilities within given numbers by a number,\n"
   ]
  },
  {
   "cell_type": "markdown",
   "metadata": {},
   "source": [
    "## => Printing data into file"
   ]
  },
  {
   "cell_type": "code",
   "execution_count": 1,
   "metadata": {},
   "outputs": [],
   "source": [
    "filepath=\"./files concept/sample.txt\"\n",
    "with open(filepath,'w') as f:\n",
    "    f.write(\"it doesnot worked.\")\n",
    "    f.write(\"it has worked.\")\n",
    "    \n",
    "    "
   ]
  },
  {
   "cell_type": "markdown",
   "metadata": {},
   "source": [
    "## => Printing data into next line in file"
   ]
  },
  {
   "cell_type": "code",
   "execution_count": 57,
   "metadata": {},
   "outputs": [],
   "source": [
    "filepath=\"./files concept/sample.txt\"\n",
    "with open(filepath,'w') as f:\n",
    "    f.write(\"it doesnot worked.\\n\")\n",
    "    f.write(\"it has worked.\\nit hadn't worked.\")"
   ]
  },
  {
   "cell_type": "markdown",
   "metadata": {},
   "source": [
    "## => Getting data from file in output"
   ]
  },
  {
   "cell_type": "code",
   "execution_count": 58,
   "metadata": {},
   "outputs": [
    {
     "name": "stdout",
     "output_type": "stream",
     "text": [
      "it doesnot worked.\n",
      "\n",
      "it has worked.\n",
      "\n",
      "it hadn't worked.\n"
     ]
    }
   ],
   "source": [
    "filepath=\"./files concept/sample.txt\"\n",
    "with open(filepath,'r') as f:\n",
    "    f1=f.readlines()\n",
    "    for x in f1:\n",
    "        print(x)"
   ]
  },
  {
   "cell_type": "code",
   "execution_count": 5,
   "metadata": {},
   "outputs": [
    {
     "name": "stdout",
     "output_type": "stream",
     "text": [
      "['it doesnot worked.\\n', 'it has worked.\\n', \"it hadn't worked.\\n\", 'I am succed.']\n"
     ]
    }
   ],
   "source": [
    "filepath=\"./files concept/sample.txt\"\n",
    "with open(filepath,'r') as f:\n",
    "    f1=f.readlines()\n",
    "    print(f1)"
   ]
  },
  {
   "cell_type": "markdown",
   "metadata": {},
   "source": [
    "## => Adding data to file from python"
   ]
  },
  {
   "cell_type": "code",
   "execution_count": 4,
   "metadata": {},
   "outputs": [],
   "source": [
    "filepath=\"./files concept/sample.txt\"\n",
    "with open(filepath,'a+') as f:\n",
    "    f1=f.write(\"\\nI am succed.\\nI am sanavulla\")\n",
    "   "
   ]
  },
  {
   "cell_type": "markdown",
   "metadata": {},
   "source": [
    "## => Printing particular line of data form the file"
   ]
  },
  {
   "cell_type": "code",
   "execution_count": 1,
   "metadata": {},
   "outputs": [
    {
     "name": "stdout",
     "output_type": "stream",
     "text": [
      "Enter line number (considering 0 line)0\n",
      "abc\n"
     ]
    }
   ],
   "source": [
    "n=int(input(\"Enter line number (considering 0 line)\"))\n",
    "filepath=\"./files concept/sample.txt\"\n",
    "with open(filepath,'r') as f:\n",
    "    f1=f.readlines()\n",
    "    print(f1[(n)])"
   ]
  },
  {
   "cell_type": "code",
   "execution_count": 4,
   "metadata": {},
   "outputs": [
    {
     "name": "stdout",
     "output_type": "stream",
     "text": [
      "Enter line number (considering 0 line)0\n",
      "it has worked.\n",
      "\n"
     ]
    }
   ],
   "source": [
    "n=int(input(\"Enter line number (considering 0 line)\"))\n",
    "filepath=\"./files concept/sample.txt\"\n",
    "with open(filepath,'r') as f:\n",
    "    f1=f.readlines()\n",
    "    d=list(f1)\n",
    "    print(d[(n)])"
   ]
  },
  {
   "cell_type": "code",
   "execution_count": 5,
   "metadata": {},
   "outputs": [
    {
     "name": "stdout",
     "output_type": "stream",
     "text": [
      "it has worked.\n",
      "\n"
     ]
    }
   ],
   "source": [
    "filepath=\"./files concept/sample.txt\"\n",
    "with open(filepath,'r') as f:\n",
    "    f1=f.readline()\n",
    "    print(f1)"
   ]
  },
  {
   "cell_type": "markdown",
   "metadata": {},
   "source": [
    "## => Filtering the list (Printing list without repeated characters)"
   ]
  },
  {
   "cell_type": "code",
   "execution_count": 8,
   "metadata": {},
   "outputs": [
    {
     "name": "stdout",
     "output_type": "stream",
     "text": [
      "['venky', 'chandra', 'gopal', 'kiran']\n"
     ]
    }
   ],
   "source": [
    "l=[\"venky\",\"chandra\",\"gopal\",\"kiran\",\"venky\",\"gopal\"]\n",
    "d=[]\n",
    "for i in l:\n",
    "    if i not in d:\n",
    "        d.append(i)\n",
    "print(d)"
   ]
  },
  {
   "cell_type": "markdown",
   "metadata": {},
   "source": [
    "## => Printing count of divisibilities within given numbers by a number"
   ]
  },
  {
   "cell_type": "code",
   "execution_count": 26,
   "metadata": {},
   "outputs": [
    {
     "name": "stdout",
     "output_type": "stream",
     "text": [
      "enter numbers seperately1 100 20\n",
      "the no. of divisibles are 20\n",
      "the no. of divisibles are 40\n",
      "the no. of divisibles are 60\n",
      "the no. of divisibles are 80\n",
      "the no. of divisibles are 100\n",
      "----the no. of divisibles are= 5 ----\n"
     ]
    }
   ],
   "source": [
    "n=input(\"enter numbers seperately\")\n",
    "m=n.split()\n",
    "l=int(m[0])\n",
    "r=int(m[1])\n",
    "k=int(m[2])\n",
    "c=0\n",
    "for i in range(l,r+1):\n",
    "    if (i%k==0):\n",
    "        c=c+1\n",
    "        print(\"the no. of divisibles are\",i)\n",
    "print(\"----the no. of divisibles are=\",c,\"----\")"
   ]
  },
  {
   "cell_type": "code",
   "execution_count": null,
   "metadata": {},
   "outputs": [],
   "source": []
  }
 ],
 "metadata": {
  "kernelspec": {
   "display_name": "Python 3",
   "language": "python",
   "name": "python3"
  },
  "language_info": {
   "codemirror_mode": {
    "name": "ipython",
    "version": 3
   },
   "file_extension": ".py",
   "mimetype": "text/x-python",
   "name": "python",
   "nbconvert_exporter": "python",
   "pygments_lexer": "ipython3",
   "version": "3.7.3"
  }
 },
 "nbformat": 4,
 "nbformat_minor": 2
}
