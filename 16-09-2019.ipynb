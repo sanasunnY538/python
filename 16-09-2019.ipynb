{
 "cells": [
  {
   "cell_type": "markdown",
   "metadata": {},
   "source": [
    "# 30. Printing top 3 list from dictionary by using while loop,\n",
    "# 31. While loop concept,\n",
    "# 32. Set concept,"
   ]
  },
  {
   "cell_type": "code",
   "execution_count": null,
   "metadata": {},
   "outputs": [],
   "source": [
    "n=int(input(\"Enter a max. limit\"))\n",
    "for j in range(1,n+1):\n",
    "    for i in range(1,11):\n",
    "        if j%i==0:\n",
    "            c=c+1\n",
    "            print(j,\"by\",i)\n",
    "           "
   ]
  },
  {
   "cell_type": "code",
   "execution_count": null,
   "metadata": {},
   "outputs": [],
   "source": [
    "n=int(input(\"Enter a number\"))\n",
    "for i in range(1,10):\n",
    "    if n%i==0:\n",
    "         print(n,\" is divisible by \",i)\n",
    "            \n",
    "        "
   ]
  },
  {
   "cell_type": "code",
   "execution_count": null,
   "metadata": {},
   "outputs": [],
   "source": [
    "d={\"a\":95,\"c\":99,\"f\":100,\"d\":72,\"e\":98}\n",
    "m=d.values()\n",
    "n={}\n",
    "j={}\n",
    "ft=max(m)\n",
    "a=1\n",
    "while a<=3:\n",
    "    for i in d:\n",
    "        if d[i]>=ft:\n",
    "            print(i,\"=\",ft,\" is the first topper\")\n",
    "        if d[i]<ft:\n",
    "            n[i]=d[i]\n",
    "    st=max(n.values())\n",
    "    for i in n:\n",
    "        if n[i]>=st:\n",
    "            print(i,\"=\",st,\" is the second topper\")\n",
    "        if n[i]<st:\n",
    "            j[i]=n[i]\n",
    "tt=max(j.values())\n",
    "for i in j:\n",
    "    if j[i]>=tt:\n",
    "        print(i,\"=\",tt,\" is the third topper\")"
   ]
  },
  {
   "cell_type": "code",
   "execution_count": 6,
   "metadata": {},
   "outputs": [
    {
     "name": "stdout",
     "output_type": "stream",
     "text": [
      "f 100 top\n",
      "c 99.5 top\n",
      "e 99.5 top\n",
      "a 95 top\n"
     ]
    }
   ],
   "source": [
    "d={\"a\":95,\"c\":99.5,\"f\":100,\"d\":72,\"e\":99.5}\n",
    "t=d.copy()\n",
    "j=1\n",
    "while j<=3:\n",
    "    m=max(t.values())\n",
    "    for i in d:\n",
    "        if d[i]==m:\n",
    "            print(i,d[i],\"top\")\n",
    "            t.pop(i)\n",
    "    j=j+1"
   ]
  },
  {
   "cell_type": "markdown",
   "metadata": {},
   "source": [
    "## => Sets concept"
   ]
  },
  {
   "cell_type": "code",
   "execution_count": 3,
   "metadata": {},
   "outputs": [
    {
     "name": "stdout",
     "output_type": "stream",
     "text": [
      "{1, 2, 3, 4, 5, 6, 7, 8, 9}\n"
     ]
    }
   ],
   "source": [
    "l=[1,2,3,4,5,6,7,8,9]\n",
    "t=set(l)\n",
    "print(t)"
   ]
  },
  {
   "cell_type": "code",
   "execution_count": 7,
   "metadata": {},
   "outputs": [
    {
     "name": "stdout",
     "output_type": "stream",
     "text": [
      "[1, 2, 3, 4, 5, 6, 7, 8, 9]\n"
     ]
    }
   ],
   "source": [
    "l={1,2,3,4,5,6,7,8,9}\n",
    "t=list(l)\n",
    "print(t)"
   ]
  },
  {
   "cell_type": "code",
   "execution_count": 9,
   "metadata": {},
   "outputs": [
    {
     "name": "stdout",
     "output_type": "stream",
     "text": [
      "{1, 2, 4, 5, 6, 7, 9, 23}\n"
     ]
    }
   ],
   "source": [
    "l={2,6,1,5,7,9,2,4,6,5,2,23,4,9}\n",
    "t=set(l)\n",
    "print(t)"
   ]
  },
  {
   "cell_type": "code",
   "execution_count": null,
   "metadata": {},
   "outputs": [],
   "source": []
  }
 ],
 "metadata": {
  "kernelspec": {
   "display_name": "Python 3",
   "language": "python",
   "name": "python3"
  },
  "language_info": {
   "codemirror_mode": {
    "name": "ipython",
    "version": 3
   },
   "file_extension": ".py",
   "mimetype": "text/x-python",
   "name": "python",
   "nbconvert_exporter": "python",
   "pygments_lexer": "ipython3",
   "version": "3.7.3"
  }
 },
 "nbformat": 4,
 "nbformat_minor": 2
}
