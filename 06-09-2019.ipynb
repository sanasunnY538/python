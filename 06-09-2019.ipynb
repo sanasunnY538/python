{
 "cells": [
  {
   "cell_type": "markdown",
   "metadata": {},
   "source": [
    "# 11.Swaping of Alphabets"
   ]
  },
  {
   "cell_type": "code",
   "execution_count": 1,
   "metadata": {},
   "outputs": [
    {
     "ename": "SyntaxError",
     "evalue": "invalid syntax (<ipython-input-1-f15897f52290>, line 5)",
     "output_type": "error",
     "traceback": [
      "\u001b[1;36m  File \u001b[1;32m\"<ipython-input-1-f15897f52290>\"\u001b[1;36m, line \u001b[1;32m5\u001b[0m\n\u001b[1;33m    if t[i]>='a'&&t[i]<='z':\u001b[0m\n\u001b[1;37m                 ^\u001b[0m\n\u001b[1;31mSyntaxError\u001b[0m\u001b[1;31m:\u001b[0m invalid syntax\n"
     ]
    }
   ],
   "source": [
    "t=intput(\"Enter text\")\n",
    "L=length_of(t)\n",
    "i=0\n",
    "for i in L:\n",
    "    if t[i]>='a'&&t[i]<='z':\n",
    "        t[i]=t[i]-32\n",
    "        printt[i]\n",
    "    elif t[i]>='A'&&t[i]<='Z':\n",
    "        t[i]=t[i]+32\n",
    "        printt[i]\n",
    "    else print t[i]"
   ]
  },
  {
   "cell_type": "code",
   "execution_count": null,
   "metadata": {},
   "outputs": [],
   "source": []
  },
  {
   "cell_type": "code",
   "execution_count": null,
   "metadata": {},
   "outputs": [],
   "source": []
  }
 ],
 "metadata": {
  "kernelspec": {
   "display_name": "Python 3",
   "language": "python",
   "name": "python3"
  },
  "language_info": {
   "codemirror_mode": {
    "name": "ipython",
    "version": 3
   },
   "file_extension": ".py",
   "mimetype": "text/x-python",
   "name": "python",
   "nbconvert_exporter": "python",
   "pygments_lexer": "ipython3",
   "version": "3.7.3"
  }
 },
 "nbformat": 4,
 "nbformat_minor": 2
}
